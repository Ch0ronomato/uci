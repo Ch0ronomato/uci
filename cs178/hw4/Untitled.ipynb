{
 "cells": [
  {
   "cell_type": "markdown",
   "metadata": {},
   "source": [
    "<h3>Ian Schweer</h3>\n",
    "<h3>22514022</h3>"
   ]
  },
  {
   "cell_type": "markdown",
   "metadata": {},
   "source": [
    "<h1>Begin part one</h1>\n",
    "<ol>\n",
    "    <li>H(y) = 0.97</li>\n",
    "    <li><ol>\n",
    "        <li>X1 IG = 0.04</li>\n",
    "        <li>X2 IG = 0.86</li>\n",
    "        <li>X3 IG = 0.005</li>\n",
    "        <li>X4 IG = 0.092</li>\n",
    "        <li>X5 IG = 0.005</li>\n",
    "        <li>Split on X2, then X4 then X1</li>\n",
    "    </ol></li>\n",
    "    <li>\n",
    "        <pre>\n",
    "                X2\n",
    "              0/  \\1\n",
    "              X4    predict -1\n",
    "            0/  \\1\n",
    "     predict 1   X1\n",
    "               0/  \\1\n",
    "      predict -1   predict 1\n",
    "        </pre>\n",
    "    </li>\n",
    "    \n",
    "    </ol>\n",
    "</ol>"
   ]
  },
  {
   "cell_type": "markdown",
   "metadata": {},
   "source": [
    "<h1>Begin part two</h1>"
   ]
  },
  {
   "cell_type": "code",
   "execution_count": 2,
   "metadata": {
    "collapsed": false
   },
   "outputs": [
    {
     "name": "stdout",
     "output_type": "stream",
     "text": [
      "done\n"
     ]
    },
    {
     "name": "stderr",
     "output_type": "stream",
     "text": [
      "/Users/schweer/anaconda/lib/python2.7/site-packages/matplotlib/font_manager.py:273: UserWarning: Matplotlib is building the font cache using fc-list. This may take a moment.\n",
      "  warnings.warn('Matplotlib is building the font cache using fc-list. This may take a moment.')\n"
     ]
    }
   ],
   "source": [
    "import mltools as ml\n",
    "import numpy as np\n",
    "import matplotlib.pyplot as plt\n",
    "from mltools import dtree\n",
    "\n",
    "# load and split the data\n",
    "X = np.genfromtxt(\"kaggle.X1.train.txt\", delimiter=\",\")\n",
    "Y = np.genfromtxt(\"kaggle.Y.train.txt\", delimiter=\",\")\n",
    "X,Y = ml.shuffleData(X,Y)\n",
    "Xtr,Xte,Ytr,Yte = ml.splitData(X, Y, train_fraction=0.75)\n",
    "\n",
    "# get a decision tree\n",
    "dt = dtree.treeRegress(Xtr, Ytr, maxDepth=20)\n",
    "print \"done\""
   ]
  },
  {
   "cell_type": "code",
   "execution_count": 3,
   "metadata": {
    "collapsed": false
   },
   "outputs": [
    {
     "name": "stdout",
     "output_type": "stream",
     "text": [
      "0.0521074106275\n",
      "0.702371401502\n"
     ]
    }
   ],
   "source": [
    "print dt.mse(Xtr, Ytr)\n",
    "print dt.mse(Xte, Yte)"
   ]
  },
  {
   "cell_type": "code",
   "execution_count": 103,
   "metadata": {
    "collapsed": false
   },
   "outputs": [
    {
     "data": {
      "image/png": "[encoded data removed]",
      "text/plain": [
       "<matplotlib.figure.Figure at 0x111447510>"
      ]
     },
     "metadata": {},
     "output_type": "display_data"
    }
   ],
   "source": [
    "%matplotlib inline\n",
    "train_err_depth=[]\n",
    "test_err_depth=[]\n",
    "for i in range(2, 16):\n",
    "    dt.train(Xtr, Ytr, maxDepth=i)\n",
    "    train_err_depth.append(dt.mse(Xtr, Ytr))\n",
    "    test_err_depth.append(dt.mse(Xte, Yte))\n",
    "plt.plot(range(2,16), train_err_depth, 'r-')\n",
    "plt.plot(range(2,16), test_err_depth, 'g-')\n",
    "plt.show()"
   ]
  },
  {
   "cell_type": "code",
   "execution_count": 102,
   "metadata": {
    "collapsed": false
   },
   "outputs": [
    {
     "data": {
      "image/png": "[encoded data removed]",
      "text/plain": [
       "<matplotlib.figure.Figure at 0x10f9483d0>"
      ]
     },
     "metadata": {},
     "output_type": "display_data"
    }
   ],
   "source": [
    "%matplotlib inline\n",
    "parents = [2**i for i in range(3, 12+1)]\n",
    "train_err=[]\n",
    "test_err=[]\n",
    "for p in parents:\n",
    "    dt.train(Xtr, Ytr, minParent=p, maxDepth=20)\n",
    "    train_err.append(dt.mse(Xtr, Ytr))\n",
    "    test_err.append(dt.mse(Xte, Yte))\n",
    "plt.plot(parents, train_err,'r-')\n",
    "plt.plot(parents, test_err, 'g-')\n",
    "plt.show()"
   ]
  },
  {
   "cell_type": "markdown",
   "metadata": {},
   "source": [
    "<h1>Begin Part 3</h1>"
   ]
  },
  {
   "cell_type": "code",
   "execution_count": 51,
   "metadata": {
    "collapsed": false
   },
   "outputs": [
    {
     "name": "stdout",
     "output_type": "stream",
     "text": [
      "(45000, 91)\n",
      "Aye\n",
      "Aye\n",
      "Aye\n",
      "Aye\n",
      "Aye\n",
      "Aye\n",
      "Aye\n",
      "Aye\n",
      "Aye\n",
      "Aye\n",
      "Aye\n",
      "Aye\n",
      "Aye\n",
      "Aye\n",
      "Aye\n",
      "Aye\n",
      "Aye\n",
      "Aye\n",
      "Aye\n",
      "Aye\n",
      "Aye\n",
      "Aye\n",
      "Aye\n",
      "Aye\n",
      "Aye\n",
      "Done\n"
     ]
    }
   ],
   "source": [
    "# create container\n",
    "bag=[]\n",
    "depth=15\n",
    "parent=8\n",
    "nums=[1,5,10,25]\n",
    "print Xtr.shape\n",
    "n,m = Xtr.shape\n",
    "for i in range(0, 25):\n",
    "    # bootstrap all data\n",
    "    Xboot,Yboot = ml.bootstrapData(Xtr, Ytr)\n",
    "    \n",
    "    # train learner\n",
    "    dt = dtree.treeRegress(Xboot,Yboot,maxDepth=depth,minParent=parent,nFeatures=50)\n",
    "    bag.append(dt)"
   ]
  },
  {
   "cell_type": "code",
   "execution_count": 89,
   "metadata": {
    "collapsed": false
   },
   "outputs": [
    {
     "data": {
      "image/png": "[encoded data removed]",
      "text/plain": [
       "<matplotlib.figure.Figure at 0x10f95a7d0>"
      ]
     },
     "metadata": {},
     "output_type": "display_data"
    }
   ],
   "source": [
    "learner_err_tr = []\n",
    "learner_err_te = []\n",
    "mTest = Xte.shape[0]\n",
    "for i,learners in enumerate(nums):\n",
    "    # calculate the error\n",
    "    predict = np.zeros((Xtr.shape[0], learners))\n",
    "    predict_te = np.zeros((mTest, learners))\n",
    "    for i in range(learners):\n",
    "        predict[:,i] = bag[i].predict(Xtr).T[0]\n",
    "        predict_te[:,i] = bag[i].predict(Xte).T[0]\n",
    "    predict = np.mean(predict,axis=1)\n",
    "    predict_te = np.mean(predict_te,axis=1)\n",
    "    learner_err_tr.append(np.mean((predict - Ytr)**2, axis=0))\n",
    "    learner_err_te.append(np.mean((predict_te - Yte)**2, axis=0))\n",
    "\n",
    "plt.plot(nums,learner_err_tr, 'r-')\n",
    "plt.plot(nums,learner_err_te, 'g-')\n",
    "plt.show()"
   ]
  },
  {
   "cell_type": "code",
   "execution_count": 94,
   "metadata": {
    "collapsed": false
   },
   "outputs": [
    {
     "name": "stdout",
     "output_type": "stream",
     "text": [
      "Predicting\n"
     ]
    }
   ],
   "source": [
    "# do kaggle results\n",
    "X_test_kaggle = np.genfromtxt(\"kaggle.X1.test.txt\", delimiter=\",\")\n",
    "\n",
    "# construct a new group of bags.\n",
    "bag=[]\n",
    "for i in range(0, 13):\n",
    "    # bootstrap all data\n",
    "    Xboot,Yboot = ml.bootstrapData(X, Y)\n",
    "    \n",
    "    # train learner\n",
    "    dt = dtree.treeRegress(Xboot,Yboot,maxDepth=18,minParent=8,nFeatures=50)\n",
    "    bag.append(dt)\n",
    "print \"Predicting\"\n",
    "predict = np.zeros((X_test_kaggle.shape[0], 12))\n",
    "for i in range(12):\n",
    "    predict[:,i] = bag[i].predict(X_test_kaggle).T[0]\n",
    "\n",
    "Ye = np.mean(predict,axis=1)\n",
    "fh = open('predictions.csv','w') # open file for upload\n",
    "fh.write('ID,Prediction\\n') # output header line\n",
    "for i,yi in enumerate(Ye):\n",
    "    fh.write('{},{}\\n'.format(i+1,yi)) # output each prediction\n",
    "fh.close() # close the file"
   ]
  },
  {
   "cell_type": "code",
   "execution_count": 96,
   "metadata": {
    "collapsed": false
   },
   "outputs": [
    {
     "name": "stdout",
     "output_type": "stream",
     "text": [
      "Position 24 as of 2/25 with err  0.61921\n"
     ]
    }
   ],
   "source": [
    "print \"Position 24 as of 2/25 with err \", 0.61921"
   ]
  },
  {
   "cell_type": "code",
   "execution_count": null,
   "metadata": {
    "collapsed": true
   },
   "outputs": [],
   "source": []
  }
 ],
 "metadata": {
  "kernelspec": {
   "display_name": "Python 2",
   "language": "python",
   "name": "python2"
  },
  "language_info": {
   "codemirror_mode": {
    "name": "ipython",
    "version": 2
   },
   "file_extension": ".py",
   "mimetype": "text/x-python",
   "name": "python",
   "nbconvert_exporter": "python",
   "pygments_lexer": "ipython2",
   "version": "2.7.11"
  }
 },
 "nbformat": 4,
 "nbformat_minor": 0
}
